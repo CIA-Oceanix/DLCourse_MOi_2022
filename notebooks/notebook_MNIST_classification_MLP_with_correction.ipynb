{
  "cells": [
    {
      "cell_type": "markdown",
      "metadata": {
        "id": "view-in-github",
        "colab_type": "text"
      },
      "source": [
        "<a href=\"https://colab.research.google.com/github/CIA-Oceanix/DLCourse_MOi_2022/blob/main/notebooks/notebook_MNIST_classification_MLP_with_correction.ipynb\" target=\"_parent\"><img src=\"https://colab.research.google.com/assets/colab-badge.svg\" alt=\"Open In Colab\"/></a>"
      ]
    },
    {
      "cell_type": "markdown",
      "metadata": {
        "id": "mE2F5Cj5X-cq"
      },
      "source": [
        "# Deep classification on Fashion-MNIST using pytorch\n",
        "\n",
        "\n",
        "---\n",
        "\n"
      ]
    },
    {
      "cell_type": "markdown",
      "metadata": {
        "id": "85qr0BEYX-cu"
      },
      "source": [
        "## 1- Data management <a class=\"anchor\" id=\"section_1\"></a>\n",
        "\n",
        "Start with these lines of code to automatically download the Fashion-MNIST dataset."
      ]
    },
    {
      "cell_type": "code",
      "execution_count": 1,
      "metadata": {
        "id": "W6fsgjPOX-cv",
        "colab": {
          "base_uri": "https://localhost:8080/",
          "height": 450,
          "referenced_widgets": [
            "c51d855124b54d049ed437382db7ff2b",
            "32884a740d7948b88210366f75c6df17",
            "7f68b121909c4b0eb2e6ee26519f538a",
            "9b678bfa1a4848ecba6207a3e3b9f80b",
            "979e406456a04f3399426bebcfb563ea",
            "239f01220244445a8d2a95f1b4490e5c",
            "53642fb780dd45fb867183cc4d433475",
            "5f9b41176c2a4581bbcd6b673a3f4725",
            "9fbbeb41a6f546ffbd440552f88cc256",
            "37d15e9c996246e7a730433ddd73a0ee",
            "6bbcd5a2d4724239bb4c01d8983fe84c",
            "6e8b94ce1cd04e6b8080deaaabcb46b6",
            "b5d372f75ebd465883f89ccc0716891b",
            "0301c14300a24993b7e33bbcabcb8920",
            "350b84fda7db4c0f97835f2bdd1934d6",
            "1c7b102965b54823bb6d4c8325c32289",
            "9f0270cf27ce4c27b0daa03ff59bc40c",
            "4506856dbed74971977fe5dd814c61bb",
            "9521d9209db040af9d55786e99d4f156",
            "54dd9c3bb80a4fa2812d2d308764b966",
            "ba819c9851744736aaa4f37e4165587e",
            "3b43714a01c14ec4a5676e3c8fd55838",
            "50737cb10d4c45f9a24a8b60426345a3",
            "fe2fb0b1021443d8b35d9b89d9ee9f45",
            "fdbf53012eda4c98bc5707020191c00a",
            "75dee39c644942fe9c9f3be1130225fa",
            "1a2b72a11ff44167b71d49076d060da1",
            "adcf3bb2880c4f018b0f5414e4090400",
            "bf38b12ac7a74a749b572da847e17a28",
            "47054edbf1794a50b8de6465875845eb",
            "bfef399086fa4f0f824bb506f31a306f",
            "99507dbbbbd94f0f864f970858b34f97",
            "cabe4750491e4aa197c42851327ec112",
            "2f3e9aca1ebc4c2b9f2556652300dfb2",
            "6cba299a18f244b0b1b5df3f012e7948",
            "bf736eacee5848578d69a46f8ae01f5a",
            "a7806d81d00b4d05bd098b22acfc3fd6",
            "cc9daee8917b40328c452067a7e167ae",
            "ea135facca1f4f10954de587a826dec4",
            "5b76ee235e17484daaa523766a01d2b3",
            "eaeb6aaba73a41488c33d3781d42fd4d",
            "80172b22c2a4450396efa9962c97c2ea",
            "76d16c573fe04f83b1b07934fb7990fd",
            "04da4b9cde1541a099b7dec116c39bb2"
          ]
        },
        "outputId": "7a99ba0f-9898-4a00-ab9b-0abd1755547f"
      },
      "outputs": [
        {
          "output_type": "stream",
          "name": "stdout",
          "text": [
            "Downloading http://yann.lecun.com/exdb/mnist/train-images-idx3-ubyte.gz\n",
            "Downloading http://yann.lecun.com/exdb/mnist/train-images-idx3-ubyte.gz to data/MNIST/raw/train-images-idx3-ubyte.gz\n"
          ]
        },
        {
          "output_type": "display_data",
          "data": {
            "text/plain": [
              "  0%|          | 0/9912422 [00:00<?, ?it/s]"
            ],
            "application/vnd.jupyter.widget-view+json": {
              "version_major": 2,
              "version_minor": 0,
              "model_id": "c51d855124b54d049ed437382db7ff2b"
            }
          },
          "metadata": {}
        },
        {
          "output_type": "stream",
          "name": "stdout",
          "text": [
            "Extracting data/MNIST/raw/train-images-idx3-ubyte.gz to data/MNIST/raw\n",
            "\n",
            "Downloading http://yann.lecun.com/exdb/mnist/train-labels-idx1-ubyte.gz\n",
            "Downloading http://yann.lecun.com/exdb/mnist/train-labels-idx1-ubyte.gz to data/MNIST/raw/train-labels-idx1-ubyte.gz\n"
          ]
        },
        {
          "output_type": "display_data",
          "data": {
            "text/plain": [
              "  0%|          | 0/28881 [00:00<?, ?it/s]"
            ],
            "application/vnd.jupyter.widget-view+json": {
              "version_major": 2,
              "version_minor": 0,
              "model_id": "6e8b94ce1cd04e6b8080deaaabcb46b6"
            }
          },
          "metadata": {}
        },
        {
          "output_type": "stream",
          "name": "stdout",
          "text": [
            "Extracting data/MNIST/raw/train-labels-idx1-ubyte.gz to data/MNIST/raw\n",
            "\n",
            "Downloading http://yann.lecun.com/exdb/mnist/t10k-images-idx3-ubyte.gz\n",
            "Downloading http://yann.lecun.com/exdb/mnist/t10k-images-idx3-ubyte.gz to data/MNIST/raw/t10k-images-idx3-ubyte.gz\n"
          ]
        },
        {
          "output_type": "display_data",
          "data": {
            "text/plain": [
              "  0%|          | 0/1648877 [00:00<?, ?it/s]"
            ],
            "application/vnd.jupyter.widget-view+json": {
              "version_major": 2,
              "version_minor": 0,
              "model_id": "50737cb10d4c45f9a24a8b60426345a3"
            }
          },
          "metadata": {}
        },
        {
          "output_type": "stream",
          "name": "stdout",
          "text": [
            "Extracting data/MNIST/raw/t10k-images-idx3-ubyte.gz to data/MNIST/raw\n",
            "\n",
            "Downloading http://yann.lecun.com/exdb/mnist/t10k-labels-idx1-ubyte.gz\n",
            "Downloading http://yann.lecun.com/exdb/mnist/t10k-labels-idx1-ubyte.gz to data/MNIST/raw/t10k-labels-idx1-ubyte.gz\n"
          ]
        },
        {
          "output_type": "display_data",
          "data": {
            "text/plain": [
              "  0%|          | 0/4542 [00:00<?, ?it/s]"
            ],
            "application/vnd.jupyter.widget-view+json": {
              "version_major": 2,
              "version_minor": 0,
              "model_id": "2f3e9aca1ebc4c2b9f2556652300dfb2"
            }
          },
          "metadata": {}
        },
        {
          "output_type": "stream",
          "name": "stdout",
          "text": [
            "Extracting data/MNIST/raw/t10k-labels-idx1-ubyte.gz to data/MNIST/raw\n",
            "\n"
          ]
        }
      ],
      "source": [
        "from torchvision import datasets\n",
        "import torchvision.transforms as transforms\n",
        "\n",
        "transform = transforms.ToTensor()\n",
        "\n",
        "#train_data = datasets.FashionMNIST(root = 'data', train = True, download = True, transform = transform)\n",
        "#test_data = datasets.FashionMNIST(root = 'data', train = False, download = True, transform = transform)\n",
        "\n",
        "train_data = datasets.MNIST(root = 'data', train = True, download = True, transform = transform)\n",
        "test_data = datasets.MNIST(root = 'data', train = False, download = True, transform = transform)\n"
      ]
    },
    {
      "cell_type": "markdown",
      "metadata": {
        "id": "qLO0Tf2nQ1wK"
      },
      "source": [
        "#### **Size and structure of MNIST Datasets** - MNIST (Fashion-MNIST) is a dataset consisting of a training set of A examples and a test set of B examples. Each example is a CxC grayscale image, associated with a label from D classes. What are the values for A, B, C and D? <a class=\"anchor\" id=\"question_1_1\"></a>"
      ]
    },
    {
      "cell_type": "code",
      "execution_count": 2,
      "metadata": {
        "colab": {
          "base_uri": "https://localhost:8080/"
        },
        "id": "3M62Fu52Q1IT",
        "outputId": "f0b951bf-2518-4d68-94c8-ccc668f05852"
      },
      "outputs": [
        {
          "output_type": "stream",
          "name": "stdout",
          "text": [
            "A = 60000\n",
            "B = 10000\n",
            "C = 28\n",
            "D = 10\n"
          ]
        }
      ],
      "source": [
        "num_train, num_test = len(train_data), len(test_data) # TO DO\n",
        "print('A =', num_train) # TO DO\n",
        "print('B =', num_test) # TO DO\n",
        "print('C =', train_data.data.shape[1]) # TO DO\n",
        "print('D =', len(train_data.classes)) # TO DO"
      ]
    },
    {
      "cell_type": "markdown",
      "metadata": {
        "id": "KC63p4FeUSrg"
      },
      "source": [
        "#### **Recover the labels of the classes** of MNIST dataset"
      ]
    },
    {
      "cell_type": "code",
      "execution_count": 3,
      "metadata": {
        "colab": {
          "base_uri": "https://localhost:8080/"
        },
        "id": "LmyO8doyTM-K",
        "outputId": "ff4d114c-f3e0-4ea4-965c-1d539350bff1"
      },
      "outputs": [
        {
          "output_type": "stream",
          "name": "stdout",
          "text": [
            "['0 - zero', '1 - one', '2 - two', '3 - three', '4 - four', '5 - five', '6 - six', '7 - seven', '8 - eight', '9 - nine']\n"
          ]
        }
      ],
      "source": [
        "class_names = train_data.classes\n",
        "print(class_names)"
      ]
    },
    {
      "cell_type": "markdown",
      "metadata": {
        "id": "FQKjqImJ4mKx"
      },
      "source": [
        "#### **Dataloader creation** - Check data loader documentation ([documentation](https://pytorch.org/docs/stable/data.html)) for training, validation and test sets. <a class=\"anchor\" id=\"question_1_2\"></a>"
      ]
    },
    {
      "cell_type": "code",
      "execution_count": 60,
      "metadata": {
        "id": "Ho-I57ync1Ya"
      },
      "outputs": [],
      "source": [
        "import torch\n",
        "from torch.utils.data.sampler import SubsetRandomSampler\n",
        "import numpy as np\n",
        "\n",
        "batch_size = 20\n",
        "valid_size = 0.2\n",
        "\n",
        "train_size = 0.2\n",
        "indices = np.random.permutation(len(train_data))[:int(train_size*len(train_data))]\n",
        "train_data = torch.utils.data.Subset(train_data,indices )\n",
        "\n",
        "def create_data_loaders(batch_size, valid_size, train_data, test_data): # FUNCTION TO BE COMPLETED\n",
        "\n",
        "  total_train = len(train_data)\n",
        "  num_val = int(total_train * valid_size)\n",
        "  num_train = total_train - num_val\n",
        "\n",
        "  tr_data, val_data = torch.utils.data.random_split(train_data, [num_train, num_val])\n",
        "  train_loader = torch.utils.data.DataLoader(tr_data, batch_size = batch_size)\n",
        "  valid_loader = torch.utils.data.DataLoader(val_data, batch_size = batch_size)\n",
        "  test_loader = torch.utils.data.DataLoader(test_data, batch_size = batch_size)\n",
        "\n",
        "  return train_loader, valid_loader, test_loader"
      ]
    },
    {
      "cell_type": "code",
      "execution_count": 61,
      "metadata": {
        "id": "gXWfzusFrlmQ"
      },
      "outputs": [],
      "source": [
        "train_loader, valid_loader, test_loader = create_data_loaders(batch_size, valid_size, train_data, test_data) # TO DO"
      ]
    },
    {
      "cell_type": "markdown",
      "metadata": {
        "id": "18G47IQQX-c3"
      },
      "source": [
        "#### **MNIST samples** - Visualize some images from the training set with corresponding ground truth labels. <a class=\"anchor\" id=\"question_1_3\"></a>"
      ]
    },
    {
      "cell_type": "code",
      "execution_count": 50,
      "metadata": {
        "colab": {
          "base_uri": "https://localhost:8080/",
          "height": 176
        },
        "id": "arAFBf_q0K3p",
        "outputId": "e5fe4b49-0729-4ddf-ea4d-e7cb6856abee"
      },
      "outputs": [
        {
          "output_type": "display_data",
          "data": {
            "text/plain": [
              "<Figure size 1800x288 with 20 Axes>"
            ],
            "image/png": "[encoded data removed]"
          },
          "metadata": {}
        }
      ],
      "source": [
        "# CELL TO BE COMPLETED\n",
        "import matplotlib.pyplot as plt\n",
        "import numpy as np\n",
        "%matplotlib inline\n",
        "\n",
        "data_iter = iter(train_loader)\n",
        "images, labels = data_iter.next()\n",
        "images = images.numpy()\n",
        "fig = plt.figure(figsize=(25, 4))\n",
        "for idx in np.arange(20):\n",
        "    ax = fig.add_subplot(2, 10, idx+1, xticks=[], yticks=[])\n",
        "    ax.imshow(np.squeeze(images[idx]), cmap='gray')\n",
        "    ax.set_title(str(class_names[labels[idx].item()]))"
      ]
    },
    {
      "cell_type": "code",
      "execution_count": 51,
      "metadata": {
        "colab": {
          "base_uri": "https://localhost:8080/",
          "height": 592
        },
        "id": "LNGyb39UVZrA",
        "outputId": "97c71a64-038b-4a8d-ffe6-70cfd5bbcf3a"
      },
      "outputs": [
        {
          "output_type": "display_data",
          "data": {
            "text/plain": [
              "<Figure size 720x720 with 1 Axes>"
            ],
            "image/png": "[encoded data removed]"
          },
          "metadata": {
            "needs_background": "light"
          }
        }
      ],
      "source": [
        "# CELL TO BE COMPLETED\n",
        "img = np.squeeze(images[1])\n",
        "fig = plt.figure(figsize = (10,10))\n",
        "ax = fig.add_subplot(111)\n",
        "ax.imshow(img, cmap='gray')\n",
        "width, height = img.shape\n",
        "thresh = img.max()/2.5\n",
        "for x in range(width):\n",
        "    for y in range(height):\n",
        "        val = round(img[x][y],1) if img[x][y] !=0 else 0\n",
        "        ax.annotate(str(val), xy=(y,x), horizontalalignment='center', verticalalignment='center', color='white' if img[x][y]<thresh else 'black')"
      ]
    },
    {
      "cell_type": "markdown",
      "metadata": {
        "id": "xzueYKsUXETn"
      },
      "source": [
        "## 2- Multi-Layer Perceptron (MLP) <a class=\"anchor\" id=\"section_2\"></a>"
      ]
    },
    {
      "cell_type": "markdown",
      "source": [],
      "metadata": {
        "id": "EQ-S16HolaP-"
      }
    },
    {
      "cell_type": "markdown",
      "metadata": {
        "id": "EUPtjgPfNgRI"
      },
      "source": [
        "First, let us use a multi-layer perceptron (MLP) to automatically classify Fashion-MNIST images."
      ]
    },
    {
      "cell_type": "markdown",
      "metadata": {
        "id": "U0TzO_b4L8ie"
      },
      "source": [
        "#### **MLP architecture** - Define a MPL architecture with (at least) 2 fully-connected as well as dropout layers. <a class=\"anchor\" id=\"question_2_1\"></a> **Test a model with and without dropout** (see https://pytorch.org/docs/stable/generated/torch.nn.Dropout.html)"
      ]
    },
    {
      "cell_type": "code",
      "execution_count": 77,
      "metadata": {
        "id": "dINfBNnyWtia"
      },
      "outputs": [],
      "source": [
        "import torch.nn as nn\n",
        "import torch.nn.functional as F\n",
        "\n",
        "class MLP(nn.Module): \n",
        "    def __init__(self): # FUNCTION TO BE COMPLETED\n",
        "        super(MLP,self).__init__()\n",
        "        hidden_1, hidden_2 = 512, 256\n",
        "        self.fc1 = nn.Linear(28*28, hidden_1)\n",
        "        self.fc2 = nn.Linear(hidden_1,hidden_2)\n",
        "        self.fc3 = nn.Linear(hidden_2,10)\n",
        "        self.dropout = nn.Dropout(0.)\n",
        "        \n",
        "    def forward(self,x): # FUNCTION TO BE COMPLETED\n",
        "        x = x.view(-1,28*28)\n",
        "        x = F.relu(self.fc1(x))\n",
        "        x = self.dropout(x)\n",
        "        x = F.relu(self.fc2(x))\n",
        "        x = self.dropout(x)\n",
        "        x = self.fc3(x)\n",
        "        return x"
      ]
    },
    {
      "cell_type": "markdown",
      "metadata": {
        "id": "NO-JtjSqMfYd"
      },
      "source": [
        "#### **Traning scheme** - Train the pre-defined MLP network with cross entropy as loss function and stochastic gradient descent as optimization algorithm. <a class=\"anchor\" id=\"question_2_2\"></a>"
      ]
    },
    {
      "cell_type": "code",
      "execution_count": 63,
      "metadata": {
        "colab": {
          "base_uri": "https://localhost:8080/"
        },
        "id": "giapBUp2WyDP",
        "outputId": "6c1ff18c-5e96-49fc-87cc-8d726f2941f9"
      },
      "outputs": [
        {
          "output_type": "stream",
          "name": "stdout",
          "text": [
            "Using device cuda\n"
          ]
        }
      ],
      "source": [
        "device = torch.device('cuda' if torch.cuda.is_available() else 'cpu')\n",
        "print('Using device '+str(device))"
      ]
    },
    {
      "cell_type": "code",
      "execution_count": 80,
      "metadata": {
        "colab": {
          "base_uri": "https://localhost:8080/"
        },
        "id": "cNo6rTeSW0tu",
        "outputId": "bc8107e6-e55e-444e-e3a4-a478540e316c"
      },
      "outputs": [
        {
          "output_type": "execute_result",
          "data": {
            "text/plain": [
              "MLP(\n",
              "  (fc1): Linear(in_features=784, out_features=512, bias=True)\n",
              "  (fc2): Linear(in_features=512, out_features=256, bias=True)\n",
              "  (fc3): Linear(in_features=256, out_features=10, bias=True)\n",
              "  (dropout): Dropout(p=0.0, inplace=False)\n",
              ")"
            ]
          },
          "metadata": {},
          "execution_count": 80
        }
      ],
      "source": [
        "model_1 = MLP()\n",
        "model_1.to(device=device)"
      ]
    },
    {
      "cell_type": "code",
      "execution_count": 65,
      "metadata": {
        "id": "JDzdk4tCW3B0"
      },
      "outputs": [],
      "source": [
        "criterion = nn.CrossEntropyLoss() # TO DO"
      ]
    },
    {
      "cell_type": "code",
      "execution_count": 82,
      "metadata": {
        "id": "7CbSk112W40e"
      },
      "outputs": [],
      "source": [
        "optimizer = torch.optim.SGD(model_1.parameters(),lr = 0.01) # TO DO"
      ]
    },
    {
      "cell_type": "code",
      "execution_count": 81,
      "metadata": {
        "id": "3o9SW-i5W7OU"
      },
      "outputs": [],
      "source": [
        "n_epochs = 100\n",
        "\n",
        "def training(n_epochs, train_loader, valid_loader, model, criterion, optimizer): # FUNCTION TO BE COMPLETED\n",
        "\n",
        "  train_losses, valid_losses = [], []\n",
        "  valid_loss_min = np.Inf\n",
        "\n",
        "  for epoch in range(n_epochs):\n",
        "      train_loss, valid_loss = 0, 0\n",
        "      \n",
        "      model.train()\n",
        "      for data, label in train_loader:\n",
        "          data = data.to(device=device, dtype=torch.float32)\n",
        "          label = label.to(device=device, dtype=torch.long)\n",
        "          optimizer.zero_grad()\n",
        "          output = model(data)\n",
        "          loss = criterion(output, label)\n",
        "          loss.backward()\n",
        "          optimizer.step()\n",
        "          train_loss += loss.item() * data.size(0)\n",
        "      \n",
        "      model.eval()\n",
        "      for data, label in valid_loader:\n",
        "          data = data.to(device=device, dtype=torch.float32)\n",
        "          label = label.to(device=device, dtype=torch.long)\n",
        "          with torch.no_grad():\n",
        "              output = model(data)\n",
        "          loss = criterion(output,label)\n",
        "          valid_loss += loss.item() * data.size(0)\n",
        "\n",
        "      train_loss /= len(train_loader.sampler)\n",
        "      valid_loss /= len(valid_loader.sampler)\n",
        "      train_losses.append(train_loss)\n",
        "      valid_losses.append(valid_loss)\n",
        "      \n",
        "      print('epoch: {} \\ttraining Loss: {:.6f} \\tvalidation Loss: {:.6f}'.format(epoch+1, train_loss, valid_loss))\n",
        "\n",
        "      if valid_loss <= valid_loss_min:\n",
        "          print('validation loss decreased ({:.6f} --> {:.6f}).  Saving model ...'.format(\n",
        "          valid_loss_min,\n",
        "          valid_loss))\n",
        "          torch.save(model.state_dict(), 'model.pt')\n",
        "          valid_loss_min = valid_loss\n",
        "      \n",
        "  return train_losses, valid_losses      "
      ]
    },
    {
      "cell_type": "code",
      "execution_count": 83,
      "metadata": {
        "colab": {
          "base_uri": "https://localhost:8080/"
        },
        "id": "BgB8EpTNW_z3",
        "outputId": "c287eafb-f4c3-4f39-807b-4f37ec4ca542"
      },
      "outputs": [
        {
          "output_type": "stream",
          "name": "stdout",
          "text": [
            "epoch: 1 \ttraining Loss: 2.261337 \tvalidation Loss: 2.212522\n",
            "validation loss decreased (inf --> 2.212522).  Saving model ...\n",
            "epoch: 2 \ttraining Loss: 2.100674 \tvalidation Loss: 1.964308\n",
            "validation loss decreased (2.212522 --> 1.964308).  Saving model ...\n",
            "epoch: 3 \ttraining Loss: 1.670615 \tvalidation Loss: 1.396098\n",
            "validation loss decreased (1.964308 --> 1.396098).  Saving model ...\n",
            "epoch: 4 \ttraining Loss: 1.087773 \tvalidation Loss: 0.943228\n",
            "validation loss decreased (1.396098 --> 0.943228).  Saving model ...\n",
            "epoch: 5 \ttraining Loss: 0.761633 \tvalidation Loss: 0.736387\n",
            "validation loss decreased (0.943228 --> 0.736387).  Saving model ...\n",
            "epoch: 6 \ttraining Loss: 0.605040 \tvalidation Loss: 0.627894\n",
            "validation loss decreased (0.736387 --> 0.627894).  Saving model ...\n",
            "epoch: 7 \ttraining Loss: 0.514603 \tvalidation Loss: 0.562282\n",
            "validation loss decreased (0.627894 --> 0.562282).  Saving model ...\n",
            "epoch: 8 \ttraining Loss: 0.455182 \tvalidation Loss: 0.519511\n",
            "validation loss decreased (0.562282 --> 0.519511).  Saving model ...\n",
            "epoch: 9 \ttraining Loss: 0.412969 \tvalidation Loss: 0.490339\n",
            "validation loss decreased (0.519511 --> 0.490339).  Saving model ...\n",
            "epoch: 10 \ttraining Loss: 0.381379 \tvalidation Loss: 0.469791\n",
            "validation loss decreased (0.490339 --> 0.469791).  Saving model ...\n",
            "epoch: 11 \ttraining Loss: 0.356705 \tvalidation Loss: 0.454732\n",
            "validation loss decreased (0.469791 --> 0.454732).  Saving model ...\n",
            "epoch: 12 \ttraining Loss: 0.336704 \tvalidation Loss: 0.443469\n",
            "validation loss decreased (0.454732 --> 0.443469).  Saving model ...\n",
            "epoch: 13 \ttraining Loss: 0.319957 \tvalidation Loss: 0.434640\n",
            "validation loss decreased (0.443469 --> 0.434640).  Saving model ...\n",
            "epoch: 14 \ttraining Loss: 0.305517 \tvalidation Loss: 0.427591\n",
            "validation loss decreased (0.434640 --> 0.427591).  Saving model ...\n",
            "epoch: 15 \ttraining Loss: 0.292777 \tvalidation Loss: 0.421813\n",
            "validation loss decreased (0.427591 --> 0.421813).  Saving model ...\n",
            "epoch: 16 \ttraining Loss: 0.281327 \tvalidation Loss: 0.416886\n",
            "validation loss decreased (0.421813 --> 0.416886).  Saving model ...\n",
            "epoch: 17 \ttraining Loss: 0.270860 \tvalidation Loss: 0.412601\n",
            "validation loss decreased (0.416886 --> 0.412601).  Saving model ...\n",
            "epoch: 18 \ttraining Loss: 0.261182 \tvalidation Loss: 0.408441\n",
            "validation loss decreased (0.412601 --> 0.408441).  Saving model ...\n",
            "epoch: 19 \ttraining Loss: 0.252154 \tvalidation Loss: 0.405188\n",
            "validation loss decreased (0.408441 --> 0.405188).  Saving model ...\n",
            "epoch: 20 \ttraining Loss: 0.243676 \tvalidation Loss: 0.402097\n",
            "validation loss decreased (0.405188 --> 0.402097).  Saving model ...\n",
            "epoch: 21 \ttraining Loss: 0.235685 \tvalidation Loss: 0.399380\n",
            "validation loss decreased (0.402097 --> 0.399380).  Saving model ...\n",
            "epoch: 22 \ttraining Loss: 0.228112 \tvalidation Loss: 0.397000\n",
            "validation loss decreased (0.399380 --> 0.397000).  Saving model ...\n",
            "epoch: 23 \ttraining Loss: 0.220867 \tvalidation Loss: 0.394906\n",
            "validation loss decreased (0.397000 --> 0.394906).  Saving model ...\n",
            "epoch: 24 \ttraining Loss: 0.213934 \tvalidation Loss: 0.392961\n",
            "validation loss decreased (0.394906 --> 0.392961).  Saving model ...\n",
            "epoch: 25 \ttraining Loss: 0.207253 \tvalidation Loss: 0.391256\n",
            "validation loss decreased (0.392961 --> 0.391256).  Saving model ...\n",
            "epoch: 26 \ttraining Loss: 0.200847 \tvalidation Loss: 0.389653\n",
            "validation loss decreased (0.391256 --> 0.389653).  Saving model ...\n",
            "epoch: 27 \ttraining Loss: 0.194683 \tvalidation Loss: 0.388266\n",
            "validation loss decreased (0.389653 --> 0.388266).  Saving model ...\n",
            "epoch: 28 \ttraining Loss: 0.188744 \tvalidation Loss: 0.387057\n",
            "validation loss decreased (0.388266 --> 0.387057).  Saving model ...\n",
            "epoch: 29 \ttraining Loss: 0.183000 \tvalidation Loss: 0.385939\n",
            "validation loss decreased (0.387057 --> 0.385939).  Saving model ...\n",
            "epoch: 30 \ttraining Loss: 0.177442 \tvalidation Loss: 0.384961\n",
            "validation loss decreased (0.385939 --> 0.384961).  Saving model ...\n",
            "epoch: 31 \ttraining Loss: 0.172024 \tvalidation Loss: 0.384280\n",
            "validation loss decreased (0.384961 --> 0.384280).  Saving model ...\n",
            "epoch: 32 \ttraining Loss: 0.166768 \tvalidation Loss: 0.383593\n",
            "validation loss decreased (0.384280 --> 0.383593).  Saving model ...\n",
            "epoch: 33 \ttraining Loss: 0.161667 \tvalidation Loss: 0.382961\n",
            "validation loss decreased (0.383593 --> 0.382961).  Saving model ...\n",
            "epoch: 34 \ttraining Loss: 0.156701 \tvalidation Loss: 0.382357\n",
            "validation loss decreased (0.382961 --> 0.382357).  Saving model ...\n",
            "epoch: 35 \ttraining Loss: 0.151862 \tvalidation Loss: 0.382082\n",
            "validation loss decreased (0.382357 --> 0.382082).  Saving model ...\n",
            "epoch: 36 \ttraining Loss: 0.147154 \tvalidation Loss: 0.381638\n",
            "validation loss decreased (0.382082 --> 0.381638).  Saving model ...\n",
            "epoch: 37 \ttraining Loss: 0.142581 \tvalidation Loss: 0.381441\n",
            "validation loss decreased (0.381638 --> 0.381441).  Saving model ...\n",
            "epoch: 38 \ttraining Loss: 0.138105 \tvalidation Loss: 0.381285\n",
            "validation loss decreased (0.381441 --> 0.381285).  Saving model ...\n",
            "epoch: 39 \ttraining Loss: 0.133739 \tvalidation Loss: 0.381165\n",
            "validation loss decreased (0.381285 --> 0.381165).  Saving model ...\n",
            "epoch: 40 \ttraining Loss: 0.129502 \tvalidation Loss: 0.380946\n",
            "validation loss decreased (0.381165 --> 0.380946).  Saving model ...\n",
            "epoch: 41 \ttraining Loss: 0.125357 \tvalidation Loss: 0.380860\n",
            "validation loss decreased (0.380946 --> 0.380860).  Saving model ...\n",
            "epoch: 42 \ttraining Loss: 0.121345 \tvalidation Loss: 0.380854\n",
            "validation loss decreased (0.380860 --> 0.380854).  Saving model ...\n",
            "epoch: 43 \ttraining Loss: 0.117427 \tvalidation Loss: 0.380949\n",
            "epoch: 44 \ttraining Loss: 0.113619 \tvalidation Loss: 0.381010\n",
            "epoch: 45 \ttraining Loss: 0.109901 \tvalidation Loss: 0.381293\n",
            "epoch: 46 \ttraining Loss: 0.106289 \tvalidation Loss: 0.381423\n",
            "epoch: 47 \ttraining Loss: 0.102768 \tvalidation Loss: 0.381651\n",
            "epoch: 48 \ttraining Loss: 0.099377 \tvalidation Loss: 0.381855\n",
            "epoch: 49 \ttraining Loss: 0.096045 \tvalidation Loss: 0.382357\n",
            "epoch: 50 \ttraining Loss: 0.092840 \tvalidation Loss: 0.382391\n",
            "epoch: 51 \ttraining Loss: 0.089696 \tvalidation Loss: 0.382612\n",
            "epoch: 52 \ttraining Loss: 0.086676 \tvalidation Loss: 0.382830\n",
            "epoch: 53 \ttraining Loss: 0.083734 \tvalidation Loss: 0.383138\n",
            "epoch: 54 \ttraining Loss: 0.080910 \tvalidation Loss: 0.383441\n",
            "epoch: 55 \ttraining Loss: 0.078161 \tvalidation Loss: 0.383596\n",
            "epoch: 56 \ttraining Loss: 0.075487 \tvalidation Loss: 0.384056\n",
            "epoch: 57 \ttraining Loss: 0.072903 \tvalidation Loss: 0.384341\n",
            "epoch: 58 \ttraining Loss: 0.070396 \tvalidation Loss: 0.384659\n",
            "epoch: 59 \ttraining Loss: 0.067973 \tvalidation Loss: 0.385041\n",
            "epoch: 60 \ttraining Loss: 0.065627 \tvalidation Loss: 0.385337\n",
            "epoch: 61 \ttraining Loss: 0.063365 \tvalidation Loss: 0.385771\n",
            "epoch: 62 \ttraining Loss: 0.061172 \tvalidation Loss: 0.386043\n",
            "epoch: 63 \ttraining Loss: 0.059056 \tvalidation Loss: 0.386441\n",
            "epoch: 64 \ttraining Loss: 0.057019 \tvalidation Loss: 0.386808\n",
            "epoch: 65 \ttraining Loss: 0.055069 \tvalidation Loss: 0.387012\n",
            "epoch: 66 \ttraining Loss: 0.053159 \tvalidation Loss: 0.387547\n",
            "epoch: 67 \ttraining Loss: 0.051342 \tvalidation Loss: 0.387874\n",
            "epoch: 68 \ttraining Loss: 0.049584 \tvalidation Loss: 0.388199\n",
            "epoch: 69 \ttraining Loss: 0.047896 \tvalidation Loss: 0.388666\n",
            "epoch: 70 \ttraining Loss: 0.046265 \tvalidation Loss: 0.389061\n",
            "epoch: 71 \ttraining Loss: 0.044689 \tvalidation Loss: 0.389532\n",
            "epoch: 72 \ttraining Loss: 0.043182 \tvalidation Loss: 0.389905\n",
            "epoch: 73 \ttraining Loss: 0.041720 \tvalidation Loss: 0.390455\n",
            "epoch: 74 \ttraining Loss: 0.040310 \tvalidation Loss: 0.391051\n",
            "epoch: 75 \ttraining Loss: 0.038957 \tvalidation Loss: 0.391457\n",
            "epoch: 76 \ttraining Loss: 0.037661 \tvalidation Loss: 0.392117\n",
            "epoch: 77 \ttraining Loss: 0.036405 \tvalidation Loss: 0.392594\n",
            "epoch: 78 \ttraining Loss: 0.035203 \tvalidation Loss: 0.393302\n",
            "epoch: 79 \ttraining Loss: 0.034050 \tvalidation Loss: 0.393723\n",
            "epoch: 80 \ttraining Loss: 0.032932 \tvalidation Loss: 0.394474\n",
            "epoch: 81 \ttraining Loss: 0.031871 \tvalidation Loss: 0.395032\n",
            "epoch: 82 \ttraining Loss: 0.030838 \tvalidation Loss: 0.395636\n",
            "epoch: 83 \ttraining Loss: 0.029854 \tvalidation Loss: 0.396311\n",
            "epoch: 84 \ttraining Loss: 0.028896 \tvalidation Loss: 0.396908\n",
            "epoch: 85 \ttraining Loss: 0.027988 \tvalidation Loss: 0.397632\n",
            "epoch: 86 \ttraining Loss: 0.027105 \tvalidation Loss: 0.398286\n",
            "epoch: 87 \ttraining Loss: 0.026265 \tvalidation Loss: 0.398983\n",
            "epoch: 88 \ttraining Loss: 0.025450 \tvalidation Loss: 0.399671\n",
            "epoch: 89 \ttraining Loss: 0.024675 \tvalidation Loss: 0.400391\n",
            "epoch: 90 \ttraining Loss: 0.023929 \tvalidation Loss: 0.401123\n",
            "epoch: 91 \ttraining Loss: 0.023212 \tvalidation Loss: 0.401904\n",
            "epoch: 92 \ttraining Loss: 0.022524 \tvalidation Loss: 0.402613\n",
            "epoch: 93 \ttraining Loss: 0.021858 \tvalidation Loss: 0.403329\n",
            "epoch: 94 \ttraining Loss: 0.021227 \tvalidation Loss: 0.404147\n",
            "epoch: 95 \ttraining Loss: 0.020610 \tvalidation Loss: 0.404832\n",
            "epoch: 96 \ttraining Loss: 0.020026 \tvalidation Loss: 0.405673\n",
            "epoch: 97 \ttraining Loss: 0.019463 \tvalidation Loss: 0.406439\n",
            "epoch: 98 \ttraining Loss: 0.018920 \tvalidation Loss: 0.407161\n",
            "epoch: 99 \ttraining Loss: 0.018399 \tvalidation Loss: 0.407925\n",
            "epoch: 100 \ttraining Loss: 0.017901 \tvalidation Loss: 0.408694\n"
          ]
        }
      ],
      "source": [
        "train_losses_1, valid_losses_1 = training(n_epochs, train_loader, valid_loader, model_1, criterion, optimizer) # TO DO"
      ]
    },
    {
      "cell_type": "markdown",
      "metadata": {
        "id": "x6aBlyHlNQY6"
      },
      "source": [
        "#### **Check the training convergence** - Plot the evolution of the loss function for both training and validation sets with respect to epochs to study the convergence of the training process. <a class=\"anchor\" id=\"question_2_3\"></a>"
      ]
    },
    {
      "cell_type": "code",
      "execution_count": 84,
      "metadata": {
        "colab": {
          "base_uri": "https://localhost:8080/",
          "height": 293
        },
        "id": "R351wDBMNOn1",
        "outputId": "814aa37e-ba22-4fa0-a51f-560d78c026e9"
      },
      "outputs": [
        {
          "output_type": "display_data",
          "data": {
            "text/plain": [
              "<Figure size 432x288 with 1 Axes>"
            ],
            "image/png": "[encoded data removed]"
          },
          "metadata": {
            "needs_background": "light"
          }
        }
      ],
      "source": [
        "# CELL TO BE COMPLETED\n",
        "plt.plot(range(n_epochs), train_losses_1)\n",
        "plt.plot(range(n_epochs), valid_losses_1)\n",
        "plt.legend(['train', 'validation'], prop={'size': 10})\n",
        "plt.title('loss function', size=10)\n",
        "plt.xlabel('epoch', size=10)\n",
        "plt.ylabel('loss value', size=10)\n",
        "plt.grid()"
      ]
    },
    {
      "cell_type": "markdown",
      "metadata": {
        "id": "pzHWwaVBOSvk"
      },
      "source": [
        "Let us load the model corresponding to the lowest validation loss."
      ]
    },
    {
      "cell_type": "code",
      "execution_count": 16,
      "metadata": {
        "colab": {
          "base_uri": "https://localhost:8080/"
        },
        "id": "s6t9aHVqOVXX",
        "outputId": "d2f57853-1e5e-4b5f-aa8f-98922e31017c"
      },
      "outputs": [
        {
          "output_type": "execute_result",
          "data": {
            "text/plain": [
              "<All keys matched successfully>"
            ]
          },
          "metadata": {},
          "execution_count": 16
        }
      ],
      "source": [
        "model_1.load_state_dict(torch.load('model.pt', map_location=device))"
      ]
    },
    {
      "cell_type": "markdown",
      "metadata": {
        "id": "SugKLtJ3OtnD"
      },
      "source": [
        "#### **Testing the trained MLP model ** - Test the best model on (unseen) test data and evaluate it’s performance in terms of overall and per-class accuracy scores. <a class=\"anchor\" id=\"question_2_4\"></a>"
      ]
    },
    {
      "cell_type": "code",
      "execution_count": 17,
      "metadata": {
        "id": "aPHP7KUzOa4W"
      },
      "outputs": [],
      "source": [
        "def evaluation(model, test_loader, criterion): # FUNCTION TO BE COMPLETED\n",
        "\n",
        "  test_loss = 0.0\n",
        "  class_correct = list(0. for i in range(10))\n",
        "  class_total = list(0. for i in range(10))\n",
        "\n",
        "  model.eval()\n",
        "  for data, label in test_loader:\n",
        "      data = data.to(device=device, dtype=torch.float32)\n",
        "      label = label.to(device=device, dtype=torch.long)\n",
        "      with torch.no_grad():\n",
        "          output = model(data)\n",
        "      loss = criterion(output, label)\n",
        "      test_loss += loss.item()*data.size(0)\n",
        "      _, pred = torch.max(output, 1)\n",
        "      correct = np.squeeze(pred.eq(label.data.view_as(pred)))\n",
        "      for i in range(len(label)):\n",
        "          digit = label.data[i]\n",
        "          class_correct[digit] += correct[i].item()\n",
        "          class_total[digit] += 1\n",
        "\n",
        "  test_loss = test_loss/len(test_loader.sampler)\n",
        "  print('test Loss: {:.6f}\\n'.format(test_loss))\n",
        "  for i in range(10):\n",
        "      print('test accuracy of %s: %2d%% (%2d/%2d)' % (class_names[i], 100 * class_correct[i] / class_total[i], np.sum(class_correct[i]), np.sum(class_total[i])))\n",
        "  print('\\ntest accuracy (overall): %2.2f%% (%2d/%2d)' % (100. * np.sum(class_correct) / np.sum(class_total), np.sum(class_correct), np.sum(class_total)))"
      ]
    },
    {
      "cell_type": "code",
      "execution_count": 18,
      "metadata": {
        "colab": {
          "base_uri": "https://localhost:8080/"
        },
        "id": "8zrXIcS0OiSm",
        "outputId": "48979536-80f8-4eb5-8f4f-b878b97ab73b"
      },
      "outputs": [
        {
          "output_type": "stream",
          "name": "stdout",
          "text": [
            "test Loss: 0.062930\n",
            "\n",
            "test accuracy of 0 - zero: 99% (973/980)\n",
            "test accuracy of 1 - one: 99% (1125/1135)\n",
            "test accuracy of 2 - two: 98% (1013/1032)\n",
            "test accuracy of 3 - three: 98% (995/1010)\n",
            "test accuracy of 4 - four: 97% (955/982)\n",
            "test accuracy of 5 - five: 97% (867/892)\n",
            "test accuracy of 6 - six: 98% (939/958)\n",
            "test accuracy of 7 - seven: 97% (998/1028)\n",
            "test accuracy of 8 - eight: 97% (950/974)\n",
            "test accuracy of 9 - nine: 97% (982/1009)\n",
            "\n",
            "test accuracy (overall): 97.97% (9797/10000)\n"
          ]
        }
      ],
      "source": [
        "evaluation(model_1, test_loader, criterion) # TO DO"
      ]
    },
    {
      "cell_type": "markdown",
      "metadata": {
        "id": "q1WGJUCGPa4E"
      },
      "source": [
        "#### **Incorrect classifications** - Visualize some incorrect predictions by displaying test images and labels in the format: \"predicted (ground-truth)\". <a class=\"anchor\" id=\"question_2_5\"></a>"
      ]
    },
    {
      "cell_type": "code",
      "execution_count": null,
      "metadata": {
        "id": "pXY4sJHpPjHu"
      },
      "outputs": [],
      "source": [
        "def get_all_prediction(model, loader): # FUNCTION TO BE COMPLETED\n",
        "    preds = torch.tensor([], dtype=torch.long)\n",
        "    targets = torch.tensor([], dtype=torch.long)\n",
        "    for data, label in loader:\n",
        "        data = data.to(device=device, dtype=torch.float32)\n",
        "        label = label.to(device=device, dtype=torch.long)\n",
        "        with torch.no_grad():\n",
        "            output = model(data)\n",
        "        targets = torch.cat((targets, label.cpu()), dim = 0)\n",
        "        preds = torch.cat((preds, torch.max(output.cpu(), 1)[1]), dim = 0)\n",
        "    return targets.numpy(), preds.numpy()"
      ]
    },
    {
      "cell_type": "code",
      "execution_count": null,
      "metadata": {
        "id": "O166AkLrPlcW"
      },
      "outputs": [],
      "source": [
        "targets, preds_1 = get_all_prediction(model_1, test_loader) # TO DO"
      ]
    },
    {
      "cell_type": "code",
      "execution_count": null,
      "metadata": {
        "colab": {
          "base_uri": "https://localhost:8080/",
          "height": 260
        },
        "id": "wPXUvq89PpJs",
        "outputId": "deba6535-07df-4652-8cd6-2438dc964e7c"
      },
      "outputs": [
        {
          "output_type": "display_data",
          "data": {
            "text/plain": [
              "<Figure size 1440x288 with 20 Axes>"
            ],
            "image/png": "[encoded data removed]"
          },
          "metadata": {
            "needs_background": "light"
          }
        }
      ],
      "source": [
        "index = np.where(preds_1 - targets != 0)[0]\n",
        "test_set_array = test_data.data.numpy()\n",
        "plt.figure(figsize=(20, 4))\n",
        "for i in range(20):\n",
        "  plt.subplot(2, 10, i + 1)\n",
        "  plt.axis('off')\n",
        "  plt.imshow(test_set_array[index[i],:,:], cmap='gray')\n",
        "  plt.title(\"{} ({})\".format(class_names[preds_1[index[i]]], class_names[targets[index[i]]]))\n",
        "plt.show()"
      ]
    }
  ],
  "metadata": {
    "accelerator": "GPU",
    "colab": {
      "collapsed_sections": [],
      "provenance": [],
      "toc_visible": true,
      "include_colab_link": true
    },
    "kernelspec": {
      "display_name": "Python 3",
      "language": "python",
      "name": "python3"
    },
    "language_info": {
      "codemirror_mode": {
        "name": "ipython",
        "version": 3
      },
      "file_extension": ".py",
      "mimetype": "text/x-python",
      "name": "python",
      "nbconvert_exporter": "python",
      "pygments_lexer": "ipython3",
      "version": "3.8.8"
    },
    "widgets": {
      "application/vnd.jupyter.widget-state+json": {
        "c51d855124b54d049ed437382db7ff2b": {
          "model_module": "@jupyter-widgets/controls",
          "model_name": "HBoxModel",
          "model_module_version": "1.5.0",
          "state": {
            "_dom_classes": [],
            "_model_module": "@jupyter-widgets/controls",
            "_model_module_version": "1.5.0",
            "_model_name": "HBoxModel",
            "_view_count": null,
            "_view_module": "@jupyter-widgets/controls",
            "_view_module_version": "1.5.0",
            "_view_name": "HBoxView",
            "box_style": "",
            "children": [
              "IPY_MODEL_32884a740d7948b88210366f75c6df17",
              "IPY_MODEL_7f68b121909c4b0eb2e6ee26519f538a",
              "IPY_MODEL_9b678bfa1a4848ecba6207a3e3b9f80b"
            ],
            "layout": "IPY_MODEL_979e406456a04f3399426bebcfb563ea"
          }
        },
        "32884a740d7948b88210366f75c6df17": {
          "model_module": "@jupyter-widgets/controls",
          "model_name": "HTMLModel",
          "model_module_version": "1.5.0",
          "state": {
            "_dom_classes": [],
            "_model_module": "@jupyter-widgets/controls",
            "_model_module_version": "1.5.0",
            "_model_name": "HTMLModel",
            "_view_count": null,
            "_view_module": "@jupyter-widgets/controls",
            "_view_module_version": "1.5.0",
            "_view_name": "HTMLView",
            "description": "",
            "description_tooltip": null,
            "layout": "IPY_MODEL_239f01220244445a8d2a95f1b4490e5c",
            "placeholder": "​",
            "style": "IPY_MODEL_53642fb780dd45fb867183cc4d433475",
            "value": "100%"
          }
        },
        "7f68b121909c4b0eb2e6ee26519f538a": {
          "model_module": "@jupyter-widgets/controls",
          "model_name": "FloatProgressModel",
          "model_module_version": "1.5.0",
          "state": {
            "_dom_classes": [],
            "_model_module": "@jupyter-widgets/controls",
            "_model_module_version": "1.5.0",
            "_model_name": "FloatProgressModel",
            "_view_count": null,
            "_view_module": "@jupyter-widgets/controls",
            "_view_module_version": "1.5.0",
            "_view_name": "ProgressView",
            "bar_style": "success",
            "description": "",
            "description_tooltip": null,
            "layout": "IPY_MODEL_5f9b41176c2a4581bbcd6b673a3f4725",
            "max": 9912422,
            "min": 0,
            "orientation": "horizontal",
            "style": "IPY_MODEL_9fbbeb41a6f546ffbd440552f88cc256",
            "value": 9912422
          }
        },
        "9b678bfa1a4848ecba6207a3e3b9f80b": {
          "model_module": "@jupyter-widgets/controls",
          "model_name": "HTMLModel",
          "model_module_version": "1.5.0",
          "state": {
            "_dom_classes": [],
            "_model_module": "@jupyter-widgets/controls",
            "_model_module_version": "1.5.0",
            "_model_name": "HTMLModel",
            "_view_count": null,
            "_view_module": "@jupyter-widgets/controls",
            "_view_module_version": "1.5.0",
            "_view_name": "HTMLView",
            "description": "",
            "description_tooltip": null,
            "layout": "IPY_MODEL_37d15e9c996246e7a730433ddd73a0ee",
            "placeholder": "​",
            "style": "IPY_MODEL_6bbcd5a2d4724239bb4c01d8983fe84c",
            "value": " 9912422/9912422 [00:00&lt;00:00, 38639192.68it/s]"
          }
        },
        "979e406456a04f3399426bebcfb563ea": {
          "model_module": "@jupyter-widgets/base",
          "model_name": "LayoutModel",
          "model_module_version": "1.2.0",
          "state": {
            "_model_module": "@jupyter-widgets/base",
            "_model_module_version": "1.2.0",
            "_model_name": "LayoutModel",
            "_view_count": null,
            "_view_module": "@jupyter-widgets/base",
            "_view_module_version": "1.2.0",
            "_view_name": "LayoutView",
            "align_content": null,
            "align_items": null,
            "align_self": null,
            "border": null,
            "bottom": null,
            "display": null,
            "flex": null,
            "flex_flow": null,
            "grid_area": null,
            "grid_auto_columns": null,
            "grid_auto_flow": null,
            "grid_auto_rows": null,
            "grid_column": null,
            "grid_gap": null,
            "grid_row": null,
            "grid_template_areas": null,
            "grid_template_columns": null,
            "grid_template_rows": null,
            "height": null,
            "justify_content": null,
            "justify_items": null,
            "left": null,
            "margin": null,
            "max_height": null,
            "max_width": null,
            "min_height": null,
            "min_width": null,
            "object_fit": null,
            "object_position": null,
            "order": null,
            "overflow": null,
            "overflow_x": null,
            "overflow_y": null,
            "padding": null,
            "right": null,
            "top": null,
            "visibility": null,
            "width": null
          }
        },
        "239f01220244445a8d2a95f1b4490e5c": {
          "model_module": "@jupyter-widgets/base",
          "model_name": "LayoutModel",
          "model_module_version": "1.2.0",
          "state": {
            "_model_module": "@jupyter-widgets/base",
            "_model_module_version": "1.2.0",
            "_model_name": "LayoutModel",
            "_view_count": null,
            "_view_module": "@jupyter-widgets/base",
            "_view_module_version": "1.2.0",
            "_view_name": "LayoutView",
            "align_content": null,
            "align_items": null,
            "align_self": null,
            "border": null,
            "bottom": null,
            "display": null,
            "flex": null,
            "flex_flow": null,
            "grid_area": null,
            "grid_auto_columns": null,
            "grid_auto_flow": null,
            "grid_auto_rows": null,
            "grid_column": null,
            "grid_gap": null,
            "grid_row": null,
            "grid_template_areas": null,
            "grid_template_columns": null,
            "grid_template_rows": null,
            "height": null,
            "justify_content": null,
            "justify_items": null,
            "left": null,
            "margin": null,
            "max_height": null,
            "max_width": null,
            "min_height": null,
            "min_width": null,
            "object_fit": null,
            "object_position": null,
            "order": null,
            "overflow": null,
            "overflow_x": null,
            "overflow_y": null,
            "padding": null,
            "right": null,
            "top": null,
            "visibility": null,
            "width": null
          }
        },
        "53642fb780dd45fb867183cc4d433475": {
          "model_module": "@jupyter-widgets/controls",
          "model_name": "DescriptionStyleModel",
          "model_module_version": "1.5.0",
          "state": {
            "_model_module": "@jupyter-widgets/controls",
            "_model_module_version": "1.5.0",
            "_model_name": "DescriptionStyleModel",
            "_view_count": null,
            "_view_module": "@jupyter-widgets/base",
            "_view_module_version": "1.2.0",
            "_view_name": "StyleView",
            "description_width": ""
          }
        },
        "5f9b41176c2a4581bbcd6b673a3f4725": {
          "model_module": "@jupyter-widgets/base",
          "model_name": "LayoutModel",
          "model_module_version": "1.2.0",
          "state": {
            "_model_module": "@jupyter-widgets/base",
            "_model_module_version": "1.2.0",
            "_model_name": "LayoutModel",
            "_view_count": null,
            "_view_module": "@jupyter-widgets/base",
            "_view_module_version": "1.2.0",
            "_view_name": "LayoutView",
            "align_content": null,
            "align_items": null,
            "align_self": null,
            "border": null,
            "bottom": null,
            "display": null,
            "flex": null,
            "flex_flow": null,
            "grid_area": null,
            "grid_auto_columns": null,
            "grid_auto_flow": null,
            "grid_auto_rows": null,
            "grid_column": null,
            "grid_gap": null,
            "grid_row": null,
            "grid_template_areas": null,
            "grid_template_columns": null,
            "grid_template_rows": null,
            "height": null,
            "justify_content": null,
            "justify_items": null,
            "left": null,
            "margin": null,
            "max_height": null,
            "max_width": null,
            "min_height": null,
            "min_width": null,
            "object_fit": null,
            "object_position": null,
            "order": null,
            "overflow": null,
            "overflow_x": null,
            "overflow_y": null,
            "padding": null,
            "right": null,
            "top": null,
            "visibility": null,
            "width": null
          }
        },
        "9fbbeb41a6f546ffbd440552f88cc256": {
          "model_module": "@jupyter-widgets/controls",
          "model_name": "ProgressStyleModel",
          "model_module_version": "1.5.0",
          "state": {
            "_model_module": "@jupyter-widgets/controls",
            "_model_module_version": "1.5.0",
            "_model_name": "ProgressStyleModel",
            "_view_count": null,
            "_view_module": "@jupyter-widgets/base",
            "_view_module_version": "1.2.0",
            "_view_name": "StyleView",
            "bar_color": null,
            "description_width": ""
          }
        },
        "37d15e9c996246e7a730433ddd73a0ee": {
          "model_module": "@jupyter-widgets/base",
          "model_name": "LayoutModel",
          "model_module_version": "1.2.0",
          "state": {
            "_model_module": "@jupyter-widgets/base",
            "_model_module_version": "1.2.0",
            "_model_name": "LayoutModel",
            "_view_count": null,
            "_view_module": "@jupyter-widgets/base",
            "_view_module_version": "1.2.0",
            "_view_name": "LayoutView",
            "align_content": null,
            "align_items": null,
            "align_self": null,
            "border": null,
            "bottom": null,
            "display": null,
            "flex": null,
            "flex_flow": null,
            "grid_area": null,
            "grid_auto_columns": null,
            "grid_auto_flow": null,
            "grid_auto_rows": null,
            "grid_column": null,
            "grid_gap": null,
            "grid_row": null,
            "grid_template_areas": null,
            "grid_template_columns": null,
            "grid_template_rows": null,
            "height": null,
            "justify_content": null,
            "justify_items": null,
            "left": null,
            "margin": null,
            "max_height": null,
            "max_width": null,
            "min_height": null,
            "min_width": null,
            "object_fit": null,
            "object_position": null,
            "order": null,
            "overflow": null,
            "overflow_x": null,
            "overflow_y": null,
            "padding": null,
            "right": null,
            "top": null,
            "visibility": null,
            "width": null
          }
        },
        "6bbcd5a2d4724239bb4c01d8983fe84c": {
          "model_module": "@jupyter-widgets/controls",
          "model_name": "DescriptionStyleModel",
          "model_module_version": "1.5.0",
          "state": {
            "_model_module": "@jupyter-widgets/controls",
            "_model_module_version": "1.5.0",
            "_model_name": "DescriptionStyleModel",
            "_view_count": null,
            "_view_module": "@jupyter-widgets/base",
            "_view_module_version": "1.2.0",
            "_view_name": "StyleView",
            "description_width": ""
          }
        },
        "6e8b94ce1cd04e6b8080deaaabcb46b6": {
          "model_module": "@jupyter-widgets/controls",
          "model_name": "HBoxModel",
          "model_module_version": "1.5.0",
          "state": {
            "_dom_classes": [],
            "_model_module": "@jupyter-widgets/controls",
            "_model_module_version": "1.5.0",
            "_model_name": "HBoxModel",
            "_view_count": null,
            "_view_module": "@jupyter-widgets/controls",
            "_view_module_version": "1.5.0",
            "_view_name": "HBoxView",
            "box_style": "",
            "children": [
              "IPY_MODEL_b5d372f75ebd465883f89ccc0716891b",
              "IPY_MODEL_0301c14300a24993b7e33bbcabcb8920",
              "IPY_MODEL_350b84fda7db4c0f97835f2bdd1934d6"
            ],
            "layout": "IPY_MODEL_1c7b102965b54823bb6d4c8325c32289"
          }
        },
        "b5d372f75ebd465883f89ccc0716891b": {
          "model_module": "@jupyter-widgets/controls",
          "model_name": "HTMLModel",
          "model_module_version": "1.5.0",
          "state": {
            "_dom_classes": [],
            "_model_module": "@jupyter-widgets/controls",
            "_model_module_version": "1.5.0",
            "_model_name": "HTMLModel",
            "_view_count": null,
            "_view_module": "@jupyter-widgets/controls",
            "_view_module_version": "1.5.0",
            "_view_name": "HTMLView",
            "description": "",
            "description_tooltip": null,
            "layout": "IPY_MODEL_9f0270cf27ce4c27b0daa03ff59bc40c",
            "placeholder": "​",
            "style": "IPY_MODEL_4506856dbed74971977fe5dd814c61bb",
            "value": "100%"
          }
        },
        "0301c14300a24993b7e33bbcabcb8920": {
          "model_module": "@jupyter-widgets/controls",
          "model_name": "FloatProgressModel",
          "model_module_version": "1.5.0",
          "state": {
            "_dom_classes": [],
            "_model_module": "@jupyter-widgets/controls",
            "_model_module_version": "1.5.0",
            "_model_name": "FloatProgressModel",
            "_view_count": null,
            "_view_module": "@jupyter-widgets/controls",
            "_view_module_version": "1.5.0",
            "_view_name": "ProgressView",
            "bar_style": "success",
            "description": "",
            "description_tooltip": null,
            "layout": "IPY_MODEL_9521d9209db040af9d55786e99d4f156",
            "max": 28881,
            "min": 0,
            "orientation": "horizontal",
            "style": "IPY_MODEL_54dd9c3bb80a4fa2812d2d308764b966",
            "value": 28881
          }
        },
        "350b84fda7db4c0f97835f2bdd1934d6": {
          "model_module": "@jupyter-widgets/controls",
          "model_name": "HTMLModel",
          "model_module_version": "1.5.0",
          "state": {
            "_dom_classes": [],
            "_model_module": "@jupyter-widgets/controls",
            "_model_module_version": "1.5.0",
            "_model_name": "HTMLModel",
            "_view_count": null,
            "_view_module": "@jupyter-widgets/controls",
            "_view_module_version": "1.5.0",
            "_view_name": "HTMLView",
            "description": "",
            "description_tooltip": null,
            "layout": "IPY_MODEL_ba819c9851744736aaa4f37e4165587e",
            "placeholder": "​",
            "style": "IPY_MODEL_3b43714a01c14ec4a5676e3c8fd55838",
            "value": " 28881/28881 [00:00&lt;00:00, 1245829.03it/s]"
          }
        },
        "1c7b102965b54823bb6d4c8325c32289": {
          "model_module": "@jupyter-widgets/base",
          "model_name": "LayoutModel",
          "model_module_version": "1.2.0",
          "state": {
            "_model_module": "@jupyter-widgets/base",
            "_model_module_version": "1.2.0",
            "_model_name": "LayoutModel",
            "_view_count": null,
            "_view_module": "@jupyter-widgets/base",
            "_view_module_version": "1.2.0",
            "_view_name": "LayoutView",
            "align_content": null,
            "align_items": null,
            "align_self": null,
            "border": null,
            "bottom": null,
            "display": null,
            "flex": null,
            "flex_flow": null,
            "grid_area": null,
            "grid_auto_columns": null,
            "grid_auto_flow": null,
            "grid_auto_rows": null,
            "grid_column": null,
            "grid_gap": null,
            "grid_row": null,
            "grid_template_areas": null,
            "grid_template_columns": null,
            "grid_template_rows": null,
            "height": null,
            "justify_content": null,
            "justify_items": null,
            "left": null,
            "margin": null,
            "max_height": null,
            "max_width": null,
            "min_height": null,
            "min_width": null,
            "object_fit": null,
            "object_position": null,
            "order": null,
            "overflow": null,
            "overflow_x": null,
            "overflow_y": null,
            "padding": null,
            "right": null,
            "top": null,
            "visibility": null,
            "width": null
          }
        },
        "9f0270cf27ce4c27b0daa03ff59bc40c": {
          "model_module": "@jupyter-widgets/base",
          "model_name": "LayoutModel",
          "model_module_version": "1.2.0",
          "state": {
            "_model_module": "@jupyter-widgets/base",
            "_model_module_version": "1.2.0",
            "_model_name": "LayoutModel",
            "_view_count": null,
            "_view_module": "@jupyter-widgets/base",
            "_view_module_version": "1.2.0",
            "_view_name": "LayoutView",
            "align_content": null,
            "align_items": null,
            "align_self": null,
            "border": null,
            "bottom": null,
            "display": null,
            "flex": null,
            "flex_flow": null,
            "grid_area": null,
            "grid_auto_columns": null,
            "grid_auto_flow": null,
            "grid_auto_rows": null,
            "grid_column": null,
            "grid_gap": null,
            "grid_row": null,
            "grid_template_areas": null,
            "grid_template_columns": null,
            "grid_template_rows": null,
            "height": null,
            "justify_content": null,
            "justify_items": null,
            "left": null,
            "margin": null,
            "max_height": null,
            "max_width": null,
            "min_height": null,
            "min_width": null,
            "object_fit": null,
            "object_position": null,
            "order": null,
            "overflow": null,
            "overflow_x": null,
            "overflow_y": null,
            "padding": null,
            "right": null,
            "top": null,
            "visibility": null,
            "width": null
          }
        },
        "4506856dbed74971977fe5dd814c61bb": {
          "model_module": "@jupyter-widgets/controls",
          "model_name": "DescriptionStyleModel",
          "model_module_version": "1.5.0",
          "state": {
            "_model_module": "@jupyter-widgets/controls",
            "_model_module_version": "1.5.0",
            "_model_name": "DescriptionStyleModel",
            "_view_count": null,
            "_view_module": "@jupyter-widgets/base",
            "_view_module_version": "1.2.0",
            "_view_name": "StyleView",
            "description_width": ""
          }
        },
        "9521d9209db040af9d55786e99d4f156": {
          "model_module": "@jupyter-widgets/base",
          "model_name": "LayoutModel",
          "model_module_version": "1.2.0",
          "state": {
            "_model_module": "@jupyter-widgets/base",
            "_model_module_version": "1.2.0",
            "_model_name": "LayoutModel",
            "_view_count": null,
            "_view_module": "@jupyter-widgets/base",
            "_view_module_version": "1.2.0",
            "_view_name": "LayoutView",
            "align_content": null,
            "align_items": null,
            "align_self": null,
            "border": null,
            "bottom": null,
            "display": null,
            "flex": null,
            "flex_flow": null,
            "grid_area": null,
            "grid_auto_columns": null,
            "grid_auto_flow": null,
            "grid_auto_rows": null,
            "grid_column": null,
            "grid_gap": null,
            "grid_row": null,
            "grid_template_areas": null,
            "grid_template_columns": null,
            "grid_template_rows": null,
            "height": null,
            "justify_content": null,
            "justify_items": null,
            "left": null,
            "margin": null,
            "max_height": null,
            "max_width": null,
            "min_height": null,
            "min_width": null,
            "object_fit": null,
            "object_position": null,
            "order": null,
            "overflow": null,
            "overflow_x": null,
            "overflow_y": null,
            "padding": null,
            "right": null,
            "top": null,
            "visibility": null,
            "width": null
          }
        },
        "54dd9c3bb80a4fa2812d2d308764b966": {
          "model_module": "@jupyter-widgets/controls",
          "model_name": "ProgressStyleModel",
          "model_module_version": "1.5.0",
          "state": {
            "_model_module": "@jupyter-widgets/controls",
            "_model_module_version": "1.5.0",
            "_model_name": "ProgressStyleModel",
            "_view_count": null,
            "_view_module": "@jupyter-widgets/base",
            "_view_module_version": "1.2.0",
            "_view_name": "StyleView",
            "bar_color": null,
            "description_width": ""
          }
        },
        "ba819c9851744736aaa4f37e4165587e": {
          "model_module": "@jupyter-widgets/base",
          "model_name": "LayoutModel",
          "model_module_version": "1.2.0",
          "state": {
            "_model_module": "@jupyter-widgets/base",
            "_model_module_version": "1.2.0",
            "_model_name": "LayoutModel",
            "_view_count": null,
            "_view_module": "@jupyter-widgets/base",
            "_view_module_version": "1.2.0",
            "_view_name": "LayoutView",
            "align_content": null,
            "align_items": null,
            "align_self": null,
            "border": null,
            "bottom": null,
            "display": null,
            "flex": null,
            "flex_flow": null,
            "grid_area": null,
            "grid_auto_columns": null,
            "grid_auto_flow": null,
            "grid_auto_rows": null,
            "grid_column": null,
            "grid_gap": null,
            "grid_row": null,
            "grid_template_areas": null,
            "grid_template_columns": null,
            "grid_template_rows": null,
            "height": null,
            "justify_content": null,
            "justify_items": null,
            "left": null,
            "margin": null,
            "max_height": null,
            "max_width": null,
            "min_height": null,
            "min_width": null,
            "object_fit": null,
            "object_position": null,
            "order": null,
            "overflow": null,
            "overflow_x": null,
            "overflow_y": null,
            "padding": null,
            "right": null,
            "top": null,
            "visibility": null,
            "width": null
          }
        },
        "3b43714a01c14ec4a5676e3c8fd55838": {
          "model_module": "@jupyter-widgets/controls",
          "model_name": "DescriptionStyleModel",
          "model_module_version": "1.5.0",
          "state": {
            "_model_module": "@jupyter-widgets/controls",
            "_model_module_version": "1.5.0",
            "_model_name": "DescriptionStyleModel",
            "_view_count": null,
            "_view_module": "@jupyter-widgets/base",
            "_view_module_version": "1.2.0",
            "_view_name": "StyleView",
            "description_width": ""
          }
        },
        "50737cb10d4c45f9a24a8b60426345a3": {
          "model_module": "@jupyter-widgets/controls",
          "model_name": "HBoxModel",
          "model_module_version": "1.5.0",
          "state": {
            "_dom_classes": [],
            "_model_module": "@jupyter-widgets/controls",
            "_model_module_version": "1.5.0",
            "_model_name": "HBoxModel",
            "_view_count": null,
            "_view_module": "@jupyter-widgets/controls",
            "_view_module_version": "1.5.0",
            "_view_name": "HBoxView",
            "box_style": "",
            "children": [
              "IPY_MODEL_fe2fb0b1021443d8b35d9b89d9ee9f45",
              "IPY_MODEL_fdbf53012eda4c98bc5707020191c00a",
              "IPY_MODEL_75dee39c644942fe9c9f3be1130225fa"
            ],
            "layout": "IPY_MODEL_1a2b72a11ff44167b71d49076d060da1"
          }
        },
        "fe2fb0b1021443d8b35d9b89d9ee9f45": {
          "model_module": "@jupyter-widgets/controls",
          "model_name": "HTMLModel",
          "model_module_version": "1.5.0",
          "state": {
            "_dom_classes": [],
            "_model_module": "@jupyter-widgets/controls",
            "_model_module_version": "1.5.0",
            "_model_name": "HTMLModel",
            "_view_count": null,
            "_view_module": "@jupyter-widgets/controls",
            "_view_module_version": "1.5.0",
            "_view_name": "HTMLView",
            "description": "",
            "description_tooltip": null,
            "layout": "IPY_MODEL_adcf3bb2880c4f018b0f5414e4090400",
            "placeholder": "​",
            "style": "IPY_MODEL_bf38b12ac7a74a749b572da847e17a28",
            "value": "100%"
          }
        },
        "fdbf53012eda4c98bc5707020191c00a": {
          "model_module": "@jupyter-widgets/controls",
          "model_name": "FloatProgressModel",
          "model_module_version": "1.5.0",
          "state": {
            "_dom_classes": [],
            "_model_module": "@jupyter-widgets/controls",
            "_model_module_version": "1.5.0",
            "_model_name": "FloatProgressModel",
            "_view_count": null,
            "_view_module": "@jupyter-widgets/controls",
            "_view_module_version": "1.5.0",
            "_view_name": "ProgressView",
            "bar_style": "success",
            "description": "",
            "description_tooltip": null,
            "layout": "IPY_MODEL_47054edbf1794a50b8de6465875845eb",
            "max": 1648877,
            "min": 0,
            "orientation": "horizontal",
            "style": "IPY_MODEL_bfef399086fa4f0f824bb506f31a306f",
            "value": 1648877
          }
        },
        "75dee39c644942fe9c9f3be1130225fa": {
          "model_module": "@jupyter-widgets/controls",
          "model_name": "HTMLModel",
          "model_module_version": "1.5.0",
          "state": {
            "_dom_classes": [],
            "_model_module": "@jupyter-widgets/controls",
            "_model_module_version": "1.5.0",
            "_model_name": "HTMLModel",
            "_view_count": null,
            "_view_module": "@jupyter-widgets/controls",
            "_view_module_version": "1.5.0",
            "_view_name": "HTMLView",
            "description": "",
            "description_tooltip": null,
            "layout": "IPY_MODEL_99507dbbbbd94f0f864f970858b34f97",
            "placeholder": "​",
            "style": "IPY_MODEL_cabe4750491e4aa197c42851327ec112",
            "value": " 1648877/1648877 [00:00&lt;00:00, 21764991.67it/s]"
          }
        },
        "1a2b72a11ff44167b71d49076d060da1": {
          "model_module": "@jupyter-widgets/base",
          "model_name": "LayoutModel",
          "model_module_version": "1.2.0",
          "state": {
            "_model_module": "@jupyter-widgets/base",
            "_model_module_version": "1.2.0",
            "_model_name": "LayoutModel",
            "_view_count": null,
            "_view_module": "@jupyter-widgets/base",
            "_view_module_version": "1.2.0",
            "_view_name": "LayoutView",
            "align_content": null,
            "align_items": null,
            "align_self": null,
            "border": null,
            "bottom": null,
            "display": null,
            "flex": null,
            "flex_flow": null,
            "grid_area": null,
            "grid_auto_columns": null,
            "grid_auto_flow": null,
            "grid_auto_rows": null,
            "grid_column": null,
            "grid_gap": null,
            "grid_row": null,
            "grid_template_areas": null,
            "grid_template_columns": null,
            "grid_template_rows": null,
            "height": null,
            "justify_content": null,
            "justify_items": null,
            "left": null,
            "margin": null,
            "max_height": null,
            "max_width": null,
            "min_height": null,
            "min_width": null,
            "object_fit": null,
            "object_position": null,
            "order": null,
            "overflow": null,
            "overflow_x": null,
            "overflow_y": null,
            "padding": null,
            "right": null,
            "top": null,
            "visibility": null,
            "width": null
          }
        },
        "adcf3bb2880c4f018b0f5414e4090400": {
          "model_module": "@jupyter-widgets/base",
          "model_name": "LayoutModel",
          "model_module_version": "1.2.0",
          "state": {
            "_model_module": "@jupyter-widgets/base",
            "_model_module_version": "1.2.0",
            "_model_name": "LayoutModel",
            "_view_count": null,
            "_view_module": "@jupyter-widgets/base",
            "_view_module_version": "1.2.0",
            "_view_name": "LayoutView",
            "align_content": null,
            "align_items": null,
            "align_self": null,
            "border": null,
            "bottom": null,
            "display": null,
            "flex": null,
            "flex_flow": null,
            "grid_area": null,
            "grid_auto_columns": null,
            "grid_auto_flow": null,
            "grid_auto_rows": null,
            "grid_column": null,
            "grid_gap": null,
            "grid_row": null,
            "grid_template_areas": null,
            "grid_template_columns": null,
            "grid_template_rows": null,
            "height": null,
            "justify_content": null,
            "justify_items": null,
            "left": null,
            "margin": null,
            "max_height": null,
            "max_width": null,
            "min_height": null,
            "min_width": null,
            "object_fit": null,
            "object_position": null,
            "order": null,
            "overflow": null,
            "overflow_x": null,
            "overflow_y": null,
            "padding": null,
            "right": null,
            "top": null,
            "visibility": null,
            "width": null
          }
        },
        "bf38b12ac7a74a749b572da847e17a28": {
          "model_module": "@jupyter-widgets/controls",
          "model_name": "DescriptionStyleModel",
          "model_module_version": "1.5.0",
          "state": {
            "_model_module": "@jupyter-widgets/controls",
            "_model_module_version": "1.5.0",
            "_model_name": "DescriptionStyleModel",
            "_view_count": null,
            "_view_module": "@jupyter-widgets/base",
            "_view_module_version": "1.2.0",
            "_view_name": "StyleView",
            "description_width": ""
          }
        },
        "47054edbf1794a50b8de6465875845eb": {
          "model_module": "@jupyter-widgets/base",
          "model_name": "LayoutModel",
          "model_module_version": "1.2.0",
          "state": {
            "_model_module": "@jupyter-widgets/base",
            "_model_module_version": "1.2.0",
            "_model_name": "LayoutModel",
            "_view_count": null,
            "_view_module": "@jupyter-widgets/base",
            "_view_module_version": "1.2.0",
            "_view_name": "LayoutView",
            "align_content": null,
            "align_items": null,
            "align_self": null,
            "border": null,
            "bottom": null,
            "display": null,
            "flex": null,
            "flex_flow": null,
            "grid_area": null,
            "grid_auto_columns": null,
            "grid_auto_flow": null,
            "grid_auto_rows": null,
            "grid_column": null,
            "grid_gap": null,
            "grid_row": null,
            "grid_template_areas": null,
            "grid_template_columns": null,
            "grid_template_rows": null,
            "height": null,
            "justify_content": null,
            "justify_items": null,
            "left": null,
            "margin": null,
            "max_height": null,
            "max_width": null,
            "min_height": null,
            "min_width": null,
            "object_fit": null,
            "object_position": null,
            "order": null,
            "overflow": null,
            "overflow_x": null,
            "overflow_y": null,
            "padding": null,
            "right": null,
            "top": null,
            "visibility": null,
            "width": null
          }
        },
        "bfef399086fa4f0f824bb506f31a306f": {
          "model_module": "@jupyter-widgets/controls",
          "model_name": "ProgressStyleModel",
          "model_module_version": "1.5.0",
          "state": {
            "_model_module": "@jupyter-widgets/controls",
            "_model_module_version": "1.5.0",
            "_model_name": "ProgressStyleModel",
            "_view_count": null,
            "_view_module": "@jupyter-widgets/base",
            "_view_module_version": "1.2.0",
            "_view_name": "StyleView",
            "bar_color": null,
            "description_width": ""
          }
        },
        "99507dbbbbd94f0f864f970858b34f97": {
          "model_module": "@jupyter-widgets/base",
          "model_name": "LayoutModel",
          "model_module_version": "1.2.0",
          "state": {
            "_model_module": "@jupyter-widgets/base",
            "_model_module_version": "1.2.0",
            "_model_name": "LayoutModel",
            "_view_count": null,
            "_view_module": "@jupyter-widgets/base",
            "_view_module_version": "1.2.0",
            "_view_name": "LayoutView",
            "align_content": null,
            "align_items": null,
            "align_self": null,
            "border": null,
            "bottom": null,
            "display": null,
            "flex": null,
            "flex_flow": null,
            "grid_area": null,
            "grid_auto_columns": null,
            "grid_auto_flow": null,
            "grid_auto_rows": null,
            "grid_column": null,
            "grid_gap": null,
            "grid_row": null,
            "grid_template_areas": null,
            "grid_template_columns": null,
            "grid_template_rows": null,
            "height": null,
            "justify_content": null,
            "justify_items": null,
            "left": null,
            "margin": null,
            "max_height": null,
            "max_width": null,
            "min_height": null,
            "min_width": null,
            "object_fit": null,
            "object_position": null,
            "order": null,
            "overflow": null,
            "overflow_x": null,
            "overflow_y": null,
            "padding": null,
            "right": null,
            "top": null,
            "visibility": null,
            "width": null
          }
        },
        "cabe4750491e4aa197c42851327ec112": {
          "model_module": "@jupyter-widgets/controls",
          "model_name": "DescriptionStyleModel",
          "model_module_version": "1.5.0",
          "state": {
            "_model_module": "@jupyter-widgets/controls",
            "_model_module_version": "1.5.0",
            "_model_name": "DescriptionStyleModel",
            "_view_count": null,
            "_view_module": "@jupyter-widgets/base",
            "_view_module_version": "1.2.0",
            "_view_name": "StyleView",
            "description_width": ""
          }
        },
        "2f3e9aca1ebc4c2b9f2556652300dfb2": {
          "model_module": "@jupyter-widgets/controls",
          "model_name": "HBoxModel",
          "model_module_version": "1.5.0",
          "state": {
            "_dom_classes": [],
            "_model_module": "@jupyter-widgets/controls",
            "_model_module_version": "1.5.0",
            "_model_name": "HBoxModel",
            "_view_count": null,
            "_view_module": "@jupyter-widgets/controls",
            "_view_module_version": "1.5.0",
            "_view_name": "HBoxView",
            "box_style": "",
            "children": [
              "IPY_MODEL_6cba299a18f244b0b1b5df3f012e7948",
              "IPY_MODEL_bf736eacee5848578d69a46f8ae01f5a",
              "IPY_MODEL_a7806d81d00b4d05bd098b22acfc3fd6"
            ],
            "layout": "IPY_MODEL_cc9daee8917b40328c452067a7e167ae"
          }
        },
        "6cba299a18f244b0b1b5df3f012e7948": {
          "model_module": "@jupyter-widgets/controls",
          "model_name": "HTMLModel",
          "model_module_version": "1.5.0",
          "state": {
            "_dom_classes": [],
            "_model_module": "@jupyter-widgets/controls",
            "_model_module_version": "1.5.0",
            "_model_name": "HTMLModel",
            "_view_count": null,
            "_view_module": "@jupyter-widgets/controls",
            "_view_module_version": "1.5.0",
            "_view_name": "HTMLView",
            "description": "",
            "description_tooltip": null,
            "layout": "IPY_MODEL_ea135facca1f4f10954de587a826dec4",
            "placeholder": "​",
            "style": "IPY_MODEL_5b76ee235e17484daaa523766a01d2b3",
            "value": "100%"
          }
        },
        "bf736eacee5848578d69a46f8ae01f5a": {
          "model_module": "@jupyter-widgets/controls",
          "model_name": "FloatProgressModel",
          "model_module_version": "1.5.0",
          "state": {
            "_dom_classes": [],
            "_model_module": "@jupyter-widgets/controls",
            "_model_module_version": "1.5.0",
            "_model_name": "FloatProgressModel",
            "_view_count": null,
            "_view_module": "@jupyter-widgets/controls",
            "_view_module_version": "1.5.0",
            "_view_name": "ProgressView",
            "bar_style": "success",
            "description": "",
            "description_tooltip": null,
            "layout": "IPY_MODEL_eaeb6aaba73a41488c33d3781d42fd4d",
            "max": 4542,
            "min": 0,
            "orientation": "horizontal",
            "style": "IPY_MODEL_80172b22c2a4450396efa9962c97c2ea",
            "value": 4542
          }
        },
        "a7806d81d00b4d05bd098b22acfc3fd6": {
          "model_module": "@jupyter-widgets/controls",
          "model_name": "HTMLModel",
          "model_module_version": "1.5.0",
          "state": {
            "_dom_classes": [],
            "_model_module": "@jupyter-widgets/controls",
            "_model_module_version": "1.5.0",
            "_model_name": "HTMLModel",
            "_view_count": null,
            "_view_module": "@jupyter-widgets/controls",
            "_view_module_version": "1.5.0",
            "_view_name": "HTMLView",
            "description": "",
            "description_tooltip": null,
            "layout": "IPY_MODEL_76d16c573fe04f83b1b07934fb7990fd",
            "placeholder": "​",
            "style": "IPY_MODEL_04da4b9cde1541a099b7dec116c39bb2",
            "value": " 4542/4542 [00:00&lt;00:00, 195065.93it/s]"
          }
        },
        "cc9daee8917b40328c452067a7e167ae": {
          "model_module": "@jupyter-widgets/base",
          "model_name": "LayoutModel",
          "model_module_version": "1.2.0",
          "state": {
            "_model_module": "@jupyter-widgets/base",
            "_model_module_version": "1.2.0",
            "_model_name": "LayoutModel",
            "_view_count": null,
            "_view_module": "@jupyter-widgets/base",
            "_view_module_version": "1.2.0",
            "_view_name": "LayoutView",
            "align_content": null,
            "align_items": null,
            "align_self": null,
            "border": null,
            "bottom": null,
            "display": null,
            "flex": null,
            "flex_flow": null,
            "grid_area": null,
            "grid_auto_columns": null,
            "grid_auto_flow": null,
            "grid_auto_rows": null,
            "grid_column": null,
            "grid_gap": null,
            "grid_row": null,
            "grid_template_areas": null,
            "grid_template_columns": null,
            "grid_template_rows": null,
            "height": null,
            "justify_content": null,
            "justify_items": null,
            "left": null,
            "margin": null,
            "max_height": null,
            "max_width": null,
            "min_height": null,
            "min_width": null,
            "object_fit": null,
            "object_position": null,
            "order": null,
            "overflow": null,
            "overflow_x": null,
            "overflow_y": null,
            "padding": null,
            "right": null,
            "top": null,
            "visibility": null,
            "width": null
          }
        },
        "ea135facca1f4f10954de587a826dec4": {
          "model_module": "@jupyter-widgets/base",
          "model_name": "LayoutModel",
          "model_module_version": "1.2.0",
          "state": {
            "_model_module": "@jupyter-widgets/base",
            "_model_module_version": "1.2.0",
            "_model_name": "LayoutModel",
            "_view_count": null,
            "_view_module": "@jupyter-widgets/base",
            "_view_module_version": "1.2.0",
            "_view_name": "LayoutView",
            "align_content": null,
            "align_items": null,
            "align_self": null,
            "border": null,
            "bottom": null,
            "display": null,
            "flex": null,
            "flex_flow": null,
            "grid_area": null,
            "grid_auto_columns": null,
            "grid_auto_flow": null,
            "grid_auto_rows": null,
            "grid_column": null,
            "grid_gap": null,
            "grid_row": null,
            "grid_template_areas": null,
            "grid_template_columns": null,
            "grid_template_rows": null,
            "height": null,
            "justify_content": null,
            "justify_items": null,
            "left": null,
            "margin": null,
            "max_height": null,
            "max_width": null,
            "min_height": null,
            "min_width": null,
            "object_fit": null,
            "object_position": null,
            "order": null,
            "overflow": null,
            "overflow_x": null,
            "overflow_y": null,
            "padding": null,
            "right": null,
            "top": null,
            "visibility": null,
            "width": null
          }
        },
        "5b76ee235e17484daaa523766a01d2b3": {
          "model_module": "@jupyter-widgets/controls",
          "model_name": "DescriptionStyleModel",
          "model_module_version": "1.5.0",
          "state": {
            "_model_module": "@jupyter-widgets/controls",
            "_model_module_version": "1.5.0",
            "_model_name": "DescriptionStyleModel",
            "_view_count": null,
            "_view_module": "@jupyter-widgets/base",
            "_view_module_version": "1.2.0",
            "_view_name": "StyleView",
            "description_width": ""
          }
        },
        "eaeb6aaba73a41488c33d3781d42fd4d": {
          "model_module": "@jupyter-widgets/base",
          "model_name": "LayoutModel",
          "model_module_version": "1.2.0",
          "state": {
            "_model_module": "@jupyter-widgets/base",
            "_model_module_version": "1.2.0",
            "_model_name": "LayoutModel",
            "_view_count": null,
            "_view_module": "@jupyter-widgets/base",
            "_view_module_version": "1.2.0",
            "_view_name": "LayoutView",
            "align_content": null,
            "align_items": null,
            "align_self": null,
            "border": null,
            "bottom": null,
            "display": null,
            "flex": null,
            "flex_flow": null,
            "grid_area": null,
            "grid_auto_columns": null,
            "grid_auto_flow": null,
            "grid_auto_rows": null,
            "grid_column": null,
            "grid_gap": null,
            "grid_row": null,
            "grid_template_areas": null,
            "grid_template_columns": null,
            "grid_template_rows": null,
            "height": null,
            "justify_content": null,
            "justify_items": null,
            "left": null,
            "margin": null,
            "max_height": null,
            "max_width": null,
            "min_height": null,
            "min_width": null,
            "object_fit": null,
            "object_position": null,
            "order": null,
            "overflow": null,
            "overflow_x": null,
            "overflow_y": null,
            "padding": null,
            "right": null,
            "top": null,
            "visibility": null,
            "width": null
          }
        },
        "80172b22c2a4450396efa9962c97c2ea": {
          "model_module": "@jupyter-widgets/controls",
          "model_name": "ProgressStyleModel",
          "model_module_version": "1.5.0",
          "state": {
            "_model_module": "@jupyter-widgets/controls",
            "_model_module_version": "1.5.0",
            "_model_name": "ProgressStyleModel",
            "_view_count": null,
            "_view_module": "@jupyter-widgets/base",
            "_view_module_version": "1.2.0",
            "_view_name": "StyleView",
            "bar_color": null,
            "description_width": ""
          }
        },
        "76d16c573fe04f83b1b07934fb7990fd": {
          "model_module": "@jupyter-widgets/base",
          "model_name": "LayoutModel",
          "model_module_version": "1.2.0",
          "state": {
            "_model_module": "@jupyter-widgets/base",
            "_model_module_version": "1.2.0",
            "_model_name": "LayoutModel",
            "_view_count": null,
            "_view_module": "@jupyter-widgets/base",
            "_view_module_version": "1.2.0",
            "_view_name": "LayoutView",
            "align_content": null,
            "align_items": null,
            "align_self": null,
            "border": null,
            "bottom": null,
            "display": null,
            "flex": null,
            "flex_flow": null,
            "grid_area": null,
            "grid_auto_columns": null,
            "grid_auto_flow": null,
            "grid_auto_rows": null,
            "grid_column": null,
            "grid_gap": null,
            "grid_row": null,
            "grid_template_areas": null,
            "grid_template_columns": null,
            "grid_template_rows": null,
            "height": null,
            "justify_content": null,
            "justify_items": null,
            "left": null,
            "margin": null,
            "max_height": null,
            "max_width": null,
            "min_height": null,
            "min_width": null,
            "object_fit": null,
            "object_position": null,
            "order": null,
            "overflow": null,
            "overflow_x": null,
            "overflow_y": null,
            "padding": null,
            "right": null,
            "top": null,
            "visibility": null,
            "width": null
          }
        },
        "04da4b9cde1541a099b7dec116c39bb2": {
          "model_module": "@jupyter-widgets/controls",
          "model_name": "DescriptionStyleModel",
          "model_module_version": "1.5.0",
          "state": {
            "_model_module": "@jupyter-widgets/controls",
            "_model_module_version": "1.5.0",
            "_model_name": "DescriptionStyleModel",
            "_view_count": null,
            "_view_module": "@jupyter-widgets/base",
            "_view_module_version": "1.2.0",
            "_view_name": "StyleView",
            "description_width": ""
          }
        }
      }
    }
  },
  "nbformat": 4,
  "nbformat_minor": 0
}